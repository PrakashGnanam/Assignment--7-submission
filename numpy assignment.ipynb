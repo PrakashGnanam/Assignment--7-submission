{
 "cells": [
  {
   "cell_type": "markdown",
   "metadata": {},
   "source": [
    "Write a function so that the columns of the output matrix are powers of the input vector.\n",
    "The order of the powers is determined by the increasing boolean argument. Specifically, when increasing is False, the i-th output column is the input vector raised element-wise to the power of N - i - 1."
   ]
  },
  {
   "cell_type": "code",
   "execution_count": 1,
   "metadata": {},
   "outputs": [
    {
     "name": "stdout",
     "output_type": "stream",
     "text": [
      "Input vector \n",
      " [ 5  7  9 11] \n",
      "\n",
      "Output Matrix , when boolean argument is True: \n",
      " [[    1     5    25   125   625]\n",
      " [    1     7    49   343  2401]\n",
      " [    1     9    81   729  6561]\n",
      " [    1    11   121  1331 14641]] \n",
      "\n",
      "Output Matrix , when boolean argument is False: \n",
      " [[  625   125    25     5     1]\n",
      " [ 2401   343    49     7     1]\n",
      " [ 6561   729    81     9     1]\n",
      " [14641  1331   121    11     1]]\n"
     ]
    }
   ],
   "source": [
    "#Solution\n",
    "\n",
    "# Import numpy module to access methodsn and fucntion for array/matrix\n",
    "import numpy as np\n",
    "\n",
    "# Function\n",
    "def matrix_Vandermonde(input_vector,n,bool_arg):\n",
    "    '''This function Will return Matrix in which \n",
    "    the columns of the output matrix are powers of the input vector.'''\n",
    "    \n",
    "    output_matrix=np.vander(x=input_vector,N=n,increasing=bool_arg)\n",
    "    return output_matrix\n",
    "\n",
    "# input paramater\n",
    "input_vector = np.arange(5,13,2)   # input vector ( 1-D array)\n",
    "n = 5                                  # no. of column in matrix \n",
    "bool_arg_T = True                      # boolean argument\n",
    "bool_arg_F = False                     # boolean argument\n",
    "\n",
    "# function execution\n",
    "out_matrix_True=matrix_Vandermonde(input_vector,n,bool_arg_T)\n",
    "\n",
    "out_matrix_False=matrix_Vandermonde(input_vector,n,bool_arg_F)\n",
    "\n",
    "#output\n",
    "print(\"Input vector \\n\",input_vector,\"\\n\")\n",
    "print(\"Output Matrix , when boolean argument is True: \\n\",out_matrix_True,\"\\n\")\n",
    "print(\"Output Matrix , when boolean argument is False: \\n\",out_matrix_False)"
   ]
  },
  {
   "cell_type": "markdown",
   "metadata": {},
   "source": [
    "Question: Write a function to find moving average in an array over a window:\n",
    "Test it over [3, 5, 7, 2, 8, 10, 11, 65, 72, 81, 99, 100, 150] and window of 3.\n",
    "Note: Solution submitted via githu"
   ]
  },
  {
   "cell_type": "code",
   "execution_count": 2,
   "metadata": {},
   "outputs": [
    {
     "name": "stdout",
     "output_type": "stream",
     "text": [
      "Input: Moving average of values  [3, 5, 7, 2, 8, 10, 11, 65, 72, 81, 99, 100, 150]  are :\n",
      "\n",
      "Output:\n",
      " [  5.           4.66666667   5.66666667   6.66666667   9.66666667\n",
      "  28.66666667  49.33333333  72.66666667  84.          93.33333333\n",
      " 116.33333333]\n"
     ]
    }
   ],
   "source": [
    "#Solution: \n",
    "\n",
    "# Moving average sequence\n",
    "# formula for Moving average sequence is n-k+1  ; \n",
    "  # where n -:is no. of elements  , k is window for which moving average sequence has to be create\n",
    "    \n",
    "# import Numpy module\n",
    "import numpy as np\n",
    "\n",
    "# function\n",
    "def moving_average_seq(input_array,k):\n",
    "    ''' This function will return moving average in an array.'''\n",
    "    val_array=np.cumsum(input_array,dtype=float)    \n",
    "    val_array[3:]=val_array[3:]-val_array[:-3]\n",
    "    return val_array[3-1:]/3\n",
    "\n",
    "#input values \n",
    "lst =[3, 5, 7, 2, 8, 10, 11, 65, 72, 81, 99, 100, 150]\n",
    "input_array = np.array(lst)\n",
    "    \n",
    "# output \n",
    "# Thus, total movieng average sequence are 13-3+1 = 11 values  ; where n=13 , k=3\n",
    "output_array=moving_average_seq(input_array,k=3)\n",
    "print(\"Input: Moving average of values \",lst,\" are :\\n\")\n",
    "print(\"Output:\\n\",output_array)"
   ]
  },
  {
   "cell_type": "code",
   "execution_count": null,
   "metadata": {},
   "outputs": [],
   "source": []
  }
 ],
 "metadata": {
  "kernelspec": {
   "display_name": "Python 3",
   "language": "python",
   "name": "python3"
  },
  "language_info": {
   "codemirror_mode": {
    "name": "ipython",
    "version": 3
   },
   "file_extension": ".py",
   "mimetype": "text/x-python",
   "name": "python",
   "nbconvert_exporter": "python",
   "pygments_lexer": "ipython3",
   "version": "3.8.3"
  }
 },
 "nbformat": 4,
 "nbformat_minor": 4
}
